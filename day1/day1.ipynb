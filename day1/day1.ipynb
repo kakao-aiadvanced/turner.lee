{
 "cells": [
  {
   "metadata": {
    "ExecuteTime": {
     "end_time": "2024-07-29T12:59:38.541003Z",
     "start_time": "2024-07-29T12:59:36.309875Z"
    }
   },
   "cell_type": "code",
   "source": "!pip install openai==1.3.7",
   "id": "e3eb1f0a75785627",
   "outputs": [
    {
     "name": "stdout",
     "output_type": "stream",
     "text": [
      "Collecting openai==1.3.7\r\n",
      "  Obtaining dependency information for openai==1.3.7 from https://files.pythonhosted.org/packages/3e/d3/309769dad11d5f75b81c7252d9dc849ed440d0921215e759af169054f3b6/openai-1.3.7-py3-none-any.whl.metadata\r\n",
      "  Using cached openai-1.3.7-py3-none-any.whl.metadata (17 kB)\r\n",
      "Requirement already satisfied: anyio<4,>=3.5.0 in /Users/sumniy/repository/ai-advanced/turner.lee/.venv/lib/python3.10/site-packages (from openai==1.3.7) (3.7.1)\r\n",
      "Requirement already satisfied: distro<2,>=1.7.0 in /Users/sumniy/repository/ai-advanced/turner.lee/.venv/lib/python3.10/site-packages (from openai==1.3.7) (1.9.0)\r\n",
      "Requirement already satisfied: httpx<1,>=0.23.0 in /Users/sumniy/repository/ai-advanced/turner.lee/.venv/lib/python3.10/site-packages (from openai==1.3.7) (0.27.0)\r\n",
      "Requirement already satisfied: pydantic<3,>=1.9.0 in /Users/sumniy/repository/ai-advanced/turner.lee/.venv/lib/python3.10/site-packages (from openai==1.3.7) (2.8.2)\r\n",
      "Requirement already satisfied: sniffio in /Users/sumniy/repository/ai-advanced/turner.lee/.venv/lib/python3.10/site-packages (from openai==1.3.7) (1.3.1)\r\n",
      "Requirement already satisfied: tqdm>4 in /Users/sumniy/repository/ai-advanced/turner.lee/.venv/lib/python3.10/site-packages (from openai==1.3.7) (4.66.1)\r\n",
      "Requirement already satisfied: typing-extensions<5,>=4.5 in /Users/sumniy/repository/ai-advanced/turner.lee/.venv/lib/python3.10/site-packages (from openai==1.3.7) (4.12.2)\r\n",
      "Requirement already satisfied: idna>=2.8 in /Users/sumniy/repository/ai-advanced/turner.lee/.venv/lib/python3.10/site-packages (from anyio<4,>=3.5.0->openai==1.3.7) (3.7)\r\n",
      "Requirement already satisfied: exceptiongroup in /Users/sumniy/repository/ai-advanced/turner.lee/.venv/lib/python3.10/site-packages (from anyio<4,>=3.5.0->openai==1.3.7) (1.2.2)\r\n",
      "Requirement already satisfied: certifi in /Users/sumniy/repository/ai-advanced/turner.lee/.venv/lib/python3.10/site-packages (from httpx<1,>=0.23.0->openai==1.3.7) (2024.7.4)\r\n",
      "Requirement already satisfied: httpcore==1.* in /Users/sumniy/repository/ai-advanced/turner.lee/.venv/lib/python3.10/site-packages (from httpx<1,>=0.23.0->openai==1.3.7) (1.0.5)\r\n",
      "Requirement already satisfied: h11<0.15,>=0.13 in /Users/sumniy/repository/ai-advanced/turner.lee/.venv/lib/python3.10/site-packages (from httpcore==1.*->httpx<1,>=0.23.0->openai==1.3.7) (0.14.0)\r\n",
      "Requirement already satisfied: annotated-types>=0.4.0 in /Users/sumniy/repository/ai-advanced/turner.lee/.venv/lib/python3.10/site-packages (from pydantic<3,>=1.9.0->openai==1.3.7) (0.7.0)\r\n",
      "Requirement already satisfied: pydantic-core==2.20.1 in /Users/sumniy/repository/ai-advanced/turner.lee/.venv/lib/python3.10/site-packages (from pydantic<3,>=1.9.0->openai==1.3.7) (2.20.1)\r\n",
      "Using cached openai-1.3.7-py3-none-any.whl (221 kB)\r\n",
      "Installing collected packages: openai\r\n",
      "  Attempting uninstall: openai\r\n",
      "    Found existing installation: openai 0.28.0\r\n",
      "    Uninstalling openai-0.28.0:\r\n",
      "      Successfully uninstalled openai-0.28.0\r\n",
      "Successfully installed openai-1.3.7\r\n",
      "\r\n",
      "\u001B[1m[\u001B[0m\u001B[34;49mnotice\u001B[0m\u001B[1;39;49m]\u001B[0m\u001B[39;49m A new release of pip is available: \u001B[0m\u001B[31;49m23.2.1\u001B[0m\u001B[39;49m -> \u001B[0m\u001B[32;49m24.2\u001B[0m\r\n",
      "\u001B[1m[\u001B[0m\u001B[34;49mnotice\u001B[0m\u001B[1;39;49m]\u001B[0m\u001B[39;49m To update, run: \u001B[0m\u001B[32;49mpip install --upgrade pip\u001B[0m\r\n"
     ]
    }
   ],
   "execution_count": 69
  },
  {
   "metadata": {
    "ExecuteTime": {
     "end_time": "2024-07-29T13:57:16.615236Z",
     "start_time": "2024-07-29T13:57:16.596191Z"
    }
   },
   "cell_type": "code",
   "source": [
    "from openai import OpenAI\n",
    "import os\n",
    "\n",
    "client = OpenAI(\n",
    "    # api_key=\n",
    "    api_key='api-key'\n",
    ")"
   ],
   "id": "e3746b81de3bcb8b",
   "outputs": [],
   "execution_count": 120
  },
  {
   "metadata": {
    "ExecuteTime": {
     "end_time": "2024-07-29T12:58:02.502517Z",
     "start_time": "2024-07-29T12:58:00.722935Z"
    }
   },
   "cell_type": "code",
   "source": "!pip install llmlingua",
   "id": "fb8297cce1b32f97",
   "outputs": [
    {
     "name": "stdout",
     "output_type": "stream",
     "text": [
      "Requirement already satisfied: llmlingua in /Users/sumniy/repository/ai-advanced/turner.lee/.venv/lib/python3.10/site-packages (0.2.2)\r\n",
      "Requirement already satisfied: transformers>=4.26.0 in /Users/sumniy/repository/ai-advanced/turner.lee/.venv/lib/python3.10/site-packages (from llmlingua) (4.38.0)\r\n",
      "Requirement already satisfied: accelerate in /Users/sumniy/repository/ai-advanced/turner.lee/.venv/lib/python3.10/site-packages (from llmlingua) (0.25.0)\r\n",
      "Requirement already satisfied: torch in /Users/sumniy/repository/ai-advanced/turner.lee/.venv/lib/python3.10/site-packages (from llmlingua) (2.1.1)\r\n",
      "Requirement already satisfied: tiktoken in /Users/sumniy/repository/ai-advanced/turner.lee/.venv/lib/python3.10/site-packages (from llmlingua) (0.6.0)\r\n",
      "Requirement already satisfied: nltk in /Users/sumniy/repository/ai-advanced/turner.lee/.venv/lib/python3.10/site-packages (from llmlingua) (3.8.1)\r\n",
      "Requirement already satisfied: numpy in /Users/sumniy/repository/ai-advanced/turner.lee/.venv/lib/python3.10/site-packages (from llmlingua) (1.26.4)\r\n",
      "Requirement already satisfied: filelock in /Users/sumniy/repository/ai-advanced/turner.lee/.venv/lib/python3.10/site-packages (from transformers>=4.26.0->llmlingua) (3.15.4)\r\n",
      "Requirement already satisfied: huggingface-hub<1.0,>=0.19.3 in /Users/sumniy/repository/ai-advanced/turner.lee/.venv/lib/python3.10/site-packages (from transformers>=4.26.0->llmlingua) (0.24.2)\r\n",
      "Requirement already satisfied: packaging>=20.0 in /Users/sumniy/repository/ai-advanced/turner.lee/.venv/lib/python3.10/site-packages (from transformers>=4.26.0->llmlingua) (24.1)\r\n",
      "Requirement already satisfied: pyyaml>=5.1 in /Users/sumniy/repository/ai-advanced/turner.lee/.venv/lib/python3.10/site-packages (from transformers>=4.26.0->llmlingua) (6.0.1)\r\n",
      "Requirement already satisfied: regex!=2019.12.17 in /Users/sumniy/repository/ai-advanced/turner.lee/.venv/lib/python3.10/site-packages (from transformers>=4.26.0->llmlingua) (2024.7.24)\r\n",
      "Requirement already satisfied: requests in /Users/sumniy/repository/ai-advanced/turner.lee/.venv/lib/python3.10/site-packages (from transformers>=4.26.0->llmlingua) (2.32.3)\r\n",
      "Requirement already satisfied: tokenizers<0.19,>=0.14 in /Users/sumniy/repository/ai-advanced/turner.lee/.venv/lib/python3.10/site-packages (from transformers>=4.26.0->llmlingua) (0.15.0)\r\n",
      "Requirement already satisfied: safetensors>=0.4.1 in /Users/sumniy/repository/ai-advanced/turner.lee/.venv/lib/python3.10/site-packages (from transformers>=4.26.0->llmlingua) (0.4.3)\r\n",
      "Requirement already satisfied: tqdm>=4.27 in /Users/sumniy/repository/ai-advanced/turner.lee/.venv/lib/python3.10/site-packages (from transformers>=4.26.0->llmlingua) (4.66.1)\r\n",
      "Requirement already satisfied: psutil in /Users/sumniy/repository/ai-advanced/turner.lee/.venv/lib/python3.10/site-packages (from accelerate->llmlingua) (6.0.0)\r\n",
      "Requirement already satisfied: typing-extensions in /Users/sumniy/repository/ai-advanced/turner.lee/.venv/lib/python3.10/site-packages (from torch->llmlingua) (4.12.2)\r\n",
      "Requirement already satisfied: sympy in /Users/sumniy/repository/ai-advanced/turner.lee/.venv/lib/python3.10/site-packages (from torch->llmlingua) (1.13.1)\r\n",
      "Requirement already satisfied: networkx in /Users/sumniy/repository/ai-advanced/turner.lee/.venv/lib/python3.10/site-packages (from torch->llmlingua) (3.3)\r\n",
      "Requirement already satisfied: jinja2 in /Users/sumniy/repository/ai-advanced/turner.lee/.venv/lib/python3.10/site-packages (from torch->llmlingua) (3.1.4)\r\n",
      "Requirement already satisfied: fsspec in /Users/sumniy/repository/ai-advanced/turner.lee/.venv/lib/python3.10/site-packages (from torch->llmlingua) (2024.3.1)\r\n",
      "Requirement already satisfied: click in /Users/sumniy/repository/ai-advanced/turner.lee/.venv/lib/python3.10/site-packages (from nltk->llmlingua) (8.1.7)\r\n",
      "Requirement already satisfied: joblib in /Users/sumniy/repository/ai-advanced/turner.lee/.venv/lib/python3.10/site-packages (from nltk->llmlingua) (1.4.2)\r\n",
      "Requirement already satisfied: charset-normalizer<4,>=2 in /Users/sumniy/repository/ai-advanced/turner.lee/.venv/lib/python3.10/site-packages (from requests->transformers>=4.26.0->llmlingua) (3.3.2)\r\n",
      "Requirement already satisfied: idna<4,>=2.5 in /Users/sumniy/repository/ai-advanced/turner.lee/.venv/lib/python3.10/site-packages (from requests->transformers>=4.26.0->llmlingua) (3.7)\r\n",
      "Requirement already satisfied: urllib3<3,>=1.21.1 in /Users/sumniy/repository/ai-advanced/turner.lee/.venv/lib/python3.10/site-packages (from requests->transformers>=4.26.0->llmlingua) (2.2.2)\r\n",
      "Requirement already satisfied: certifi>=2017.4.17 in /Users/sumniy/repository/ai-advanced/turner.lee/.venv/lib/python3.10/site-packages (from requests->transformers>=4.26.0->llmlingua) (2024.7.4)\r\n",
      "Requirement already satisfied: MarkupSafe>=2.0 in /Users/sumniy/repository/ai-advanced/turner.lee/.venv/lib/python3.10/site-packages (from jinja2->torch->llmlingua) (2.1.5)\r\n",
      "Requirement already satisfied: mpmath<1.4,>=1.1.0 in /Users/sumniy/repository/ai-advanced/turner.lee/.venv/lib/python3.10/site-packages (from sympy->torch->llmlingua) (1.3.0)\r\n",
      "\r\n",
      "\u001B[1m[\u001B[0m\u001B[34;49mnotice\u001B[0m\u001B[1;39;49m]\u001B[0m\u001B[39;49m A new release of pip is available: \u001B[0m\u001B[31;49m23.2.1\u001B[0m\u001B[39;49m -> \u001B[0m\u001B[32;49m24.2\u001B[0m\r\n",
      "\u001B[1m[\u001B[0m\u001B[34;49mnotice\u001B[0m\u001B[1;39;49m]\u001B[0m\u001B[39;49m To update, run: \u001B[0m\u001B[32;49mpip install --upgrade pip\u001B[0m\r\n"
     ]
    }
   ],
   "execution_count": 56
  },
  {
   "metadata": {
    "ExecuteTime": {
     "end_time": "2024-07-29T12:58:02.508708Z",
     "start_time": "2024-07-29T12:58:02.505210Z"
    }
   },
   "cell_type": "code",
   "source": [
    "import re\n",
    "import time\n",
    "\n",
    "import numpy as np\n",
    "\n",
    "from tqdm import tqdm\n",
    "from datasets import load_dataset"
   ],
   "id": "af245284c4b86830",
   "outputs": [],
   "execution_count": 57
  },
  {
   "metadata": {
    "ExecuteTime": {
     "end_time": "2024-07-29T12:58:07.215040Z",
     "start_time": "2024-07-29T12:58:02.509847Z"
    }
   },
   "cell_type": "code",
   "source": [
    "gsm8k = load_dataset('gsm8k', 'main')\n",
    "validation_index = np.load('./lib_prompt/validation_index.npy')\n",
    "validation_data = gsm8k['train'].select(validation_index)\n",
    "gsm8k_test = gsm8k['test']"
   ],
   "id": "71b96c41cb29ae6d",
   "outputs": [],
   "execution_count": 58
  },
  {
   "metadata": {
    "ExecuteTime": {
     "end_time": "2024-07-29T12:58:07.222431Z",
     "start_time": "2024-07-29T12:58:07.218015Z"
    }
   },
   "cell_type": "code",
   "source": "gsm8k['train'][0]['question']",
   "id": "ea3f445252d70c36",
   "outputs": [
    {
     "data": {
      "text/plain": [
       "'Natalia sold clips to 48 of her friends in April, and then she sold half as many clips in May. How many clips did Natalia sell altogether in April and May?'"
      ]
     },
     "execution_count": 59,
     "metadata": {},
     "output_type": "execute_result"
    }
   ],
   "execution_count": 59
  },
  {
   "metadata": {
    "ExecuteTime": {
     "end_time": "2024-07-29T12:58:07.225877Z",
     "start_time": "2024-07-29T12:58:07.223541Z"
    }
   },
   "cell_type": "code",
   "source": "gsm8k_test = gsm8k['test']",
   "id": "bc34f324f3def634",
   "outputs": [],
   "execution_count": 60
  },
  {
   "metadata": {
    "ExecuteTime": {
     "end_time": "2024-07-29T12:58:07.229905Z",
     "start_time": "2024-07-29T12:58:07.226827Z"
    }
   },
   "cell_type": "code",
   "source": "prompt_complex = open('./lib_prompt/prompt_hardest.txt').read()",
   "id": "5bf5b0f875634750",
   "outputs": [],
   "execution_count": 61
  },
  {
   "metadata": {
    "ExecuteTime": {
     "end_time": "2024-07-29T12:58:07.233811Z",
     "start_time": "2024-07-29T12:58:07.231050Z"
    }
   },
   "cell_type": "code",
   "source": "print(prompt_complex)",
   "id": "543c50e991a97acd",
   "outputs": [
    {
     "name": "stdout",
     "output_type": "stream",
     "text": [
      "Question: Angelo and Melanie want to plan how many hours over the next week they should study together for their test next week. They have 2 chapters of their textbook to study and 4 worksheets to memorize. They figure out that they should dedicate 3 hours to each chapter of their textbook and 1.5 hours for each worksheet. If they plan to study no more than 4 hours each day, how many days should they plan to study total over the next week if they take a 10-minute break every hour, include 3 10-minute snack breaks each day, and 30 minutes for lunch each day?\n",
      "Let's think step by step\n",
      "Angelo and Melanie think they should dedicate 3 hours to each of the 2 chapters, 3 hours x 2 chapters = 6 hours total.\n",
      "For the worksheets they plan to dedicate 1.5 hours for each worksheet, 1.5 hours x 4 worksheets = 6 hours total.\n",
      "Angelo and Melanie need to start with planning 12 hours to study, at 4 hours a day, 12 / 4 = 3 days.\n",
      "However, they need to include time for breaks and lunch. Every hour they want to include a 10-minute break, so 12 total hours x 10 minutes = 120 extra minutes for breaks.\n",
      "They also want to include 3 10-minute snack breaks, 3 x 10 minutes = 30 minutes.\n",
      "And they want to include 30 minutes for lunch each day, so 120 minutes for breaks + 30 minutes for snack breaks + 30 minutes for lunch = 180 minutes, or 180 / 60 minutes per hour = 3 extra hours.\n",
      "So Angelo and Melanie want to plan 12 hours to study + 3 hours of breaks = 15 hours total.\n",
      "They want to study no more than 4 hours each day, 15 hours / 4 hours each day = 3.75\n",
      "They will need to plan to study 4 days to allow for all the time they need.\n",
      "The answer is 4\n",
      "\n",
      "Question: Mark's basketball team scores 25 2 pointers, 8 3 pointers and 10 free throws.  Their opponents score double the 2 pointers but half the 3 pointers and free throws.  What's the total number of points scored by both teams added together?\n",
      "Let's think step by step\n",
      "Mark's team scores 25 2 pointers, meaning they scored 25*2= 50 points in 2 pointers.\n",
      "His team also scores 6 3 pointers, meaning they scored 8*3= 24 points in 3 pointers\n",
      "They scored 10 free throws, and free throws count as one point so they scored 10*1=10 points in free throws.\n",
      "All together his team scored 50+24+10= 84 points\n",
      "Mark's opponents scored double his team's number of 2 pointers, meaning they scored 50*2=100 points in 2 pointers.\n",
      "His opponents scored half his team's number of 3 pointers, meaning they scored 24/2= 12 points in 3 pointers.\n",
      "They also scored half Mark's team's points in free throws, meaning they scored 10/2=5 points in free throws.\n",
      "All together Mark's opponents scored 100+12+5=117 points\n",
      "The total score for the game is both team's scores added together, so it is 84+117=201 points\n",
      "The answer is 201\n",
      "\n",
      "Question: Bella has two times as many marbles as frisbees. She also has 20 more frisbees than deck cards. If she buys 2/5 times more of each item, what would be the total number of the items she will have if she currently has 60 marbles?\n",
      "Let's think step by step\n",
      "When Bella buys 2/5 times more marbles, she'll have increased the number of marbles by 2/5*60 = 24\n",
      "The total number of marbles she'll have is 60+24 = 84\n",
      "If Bella currently has 60 marbles, and she has two times as many marbles as frisbees, she has 60/2 = 30 frisbees.\n",
      "If Bella buys 2/5 times more frisbees, she'll have 2/5*30 = 12 more frisbees.\n",
      "The total number of frisbees she'll have will increase to 30+12 = 42\n",
      "Bella also has 20 more frisbees than deck cards, meaning she has 30-20 = 10 deck cards\n",
      "If she buys 2/5 times more deck cards, she'll have 2/5*10 = 4 more deck cards.\n",
      "The total number of deck cards she'll have is 10+4 = 14\n",
      "Together, Bella will have a total of 14+42+84 = 140 items\n",
      "The answer is 140\n",
      "\n",
      "Question: A group of 4 fruit baskets contains 9 apples, 15 oranges, and 14 bananas in the first three baskets and 2 less of each fruit in the fourth basket. How many fruits are there?\n",
      "Let's think step by step\n",
      "For the first three baskets, the number of apples and oranges in one basket is 9+15=24\n",
      "In total, together with bananas, the number of fruits in one basket is 24+14=38 for the first three baskets.\n",
      "Since there are three baskets each having 38 fruits, there are 3*38=114 fruits in the first three baskets.\n",
      "The number of apples in the fourth basket is 9-2=7\n",
      "There are also 15-2=13 oranges in the fourth basket\n",
      "The combined number of oranges and apples in the fourth basket is 13+7=20\n",
      "The fourth basket also contains 14-2=12 bananas.\n",
      "In total, the fourth basket has 20+12=32 fruits.\n",
      "The four baskets together have 32+114=146 fruits.\n",
      "The answer is 146\n",
      "\n",
      "Question: You can buy 4 apples or 1 watermelon for the same price. You bought 36 fruits evenly split between oranges, apples and watermelons, and the price of 1 orange is $0.50. How much does 1 apple cost if your total bill was $66?\n",
      "Let's think step by step\n",
      "If 36 fruits were evenly split between 3 types of fruits, then I bought 36/3 = 12 units of each fruit\n",
      "If 1 orange costs $0.50 then 12 oranges will cost $0.50 * 12 = $6\n",
      "If my total bill was $66 and I spent $6 on oranges then I spent $66 - $6 = $60 on the other 2 fruit types.\n",
      "Assuming the price of watermelon is W, and knowing that you can buy 4 apples for the same price and that the price of one apple is A, then 1W=4A\n",
      "If we know we bought 12 watermelons and 12 apples for $60, then we know that $60 = 12W + 12A\n",
      "Knowing that 1W=4A, then we can convert the above to $60 = 12(4A) + 12A\n",
      "$60 = 48A + 12A\n",
      "$60 = 60A\n",
      "Then we know the price of one apple (A) is $60/60= $1\n",
      "The answer is 1\n",
      "\n",
      "Question: Susy goes to a large school with 800 students, while Sarah goes to a smaller school with only 300 students.  At the start of the school year, Susy had 100 social media followers.  She gained 40 new followers in the first week of the school year, half that in the second week, and half of that in the third week.  Sarah only had 50 social media followers at the start of the year, but she gained 90 new followers the first week, a third of that in the second week, and a third of that in the third week.  After three weeks, how many social media followers did the girl with the most total followers have?\n",
      "Let's think step by step\n",
      "After one week, Susy has 100+40 = 140 followers.\n",
      "In the second week, Susy gains 40/2 = 20 new followers.\n",
      "In the third week, Susy gains 20/2 = 10 new followers.\n",
      "In total, Susy finishes the three weeks with 140+20+10 = 170 total followers.\n",
      "After one week, Sarah has 50+90 = 140 followers.\n",
      "After the second week, Sarah gains 90/3 = 30 followers.\n",
      "After the third week, Sarah gains 30/3 = 10 followers.\n",
      "So, Sarah finishes the three weeks with 140+30+10 = 180 total followers.\n",
      "Thus, Sarah is the girl with the most total followers with a total of 180.\n",
      "The answer is 180\n",
      "\n",
      "Question: Sam bought a dozen boxes, each with 30 highlighter pens inside, for $10 each box. He rearranged five of these boxes into packages of six highlighters each and sold them for $3 per package. He sold the rest of the highlighters separately at the rate of three pens for $2. How much profit did he make in total, in dollars?\n",
      "Let's think step by step\n",
      "Sam bought 12 boxes x $10 = $120 worth of highlighters.\n",
      "He bought 12 * 30 = 360 highlighters in total.\n",
      "Sam then took 5 boxes × 6 highlighters/box = 30 highlighters.\n",
      "He sold these boxes for 5 * $3 = $15\n",
      "After selling these 5 boxes there were 360 - 30 = 330 highlighters remaining.\n",
      "These form 330 / 3 = 110 groups of three pens.\n",
      "He sold each of these groups for $2 each, so made 110 * 2 = $220 from them.\n",
      "In total, then, he earned $220 + $15 = $235.\n",
      "Since his original cost was $120, he earned $235 - $120 = $115 in profit.\n",
      "The answer is 115\n",
      "\n",
      "Question: In a certain school, 2/3 of the male students like to play basketball, but only 1/5 of the female students like to play basketball. What percent of the population of the school do not like to play basketball if the ratio of the male to female students is 3:2 and there are 1000 students?\n",
      "Let's think step by step\n",
      "The students are divided into 3 + 2 = 5 parts where 3 parts are for males and 2 parts are for females.\n",
      "Each part represents 1000/5 = 200 students.\n",
      "So, there are 3 x 200 = 600 males.\n",
      "And there are 2 x 200 = 400 females.\n",
      "Hence, 600 x 2/3 = 400 males play basketball.\n",
      "And 400 x 1/5 = 80 females play basketball.\n",
      "A total of 400 + 80 = 480 students play basketball.\n",
      "Therefore, 1000 - 480 = 520 do not like to play basketball.\n",
      "The percentage of the school that do not like to play basketball is 520/1000 * 100 = 52\n",
      "The answer is 52\n",
      "\n"
     ]
    }
   ],
   "execution_count": 62
  },
  {
   "metadata": {
    "ExecuteTime": {
     "end_time": "2024-07-29T13:45:46.245279Z",
     "start_time": "2024-07-29T13:45:46.239838Z"
    }
   },
   "cell_type": "code",
   "source": [
    "from tenacity import (\n",
    "    retry,\n",
    "    stop_after_attempt,\n",
    "    wait_chain,\n",
    "    wait_fixed\n",
    ") \n",
    "\n",
    "@retry(wait=wait_chain(*[wait_fixed(3) for i in range(3)] +\n",
    "                       [wait_fixed(5) for i in range(2)] +\n",
    "                       [wait_fixed(10)]))\n",
    "def completion_with_backoff(**kwargs):\n",
    "    return client.chat.completions.create(**kwargs)"
   ],
   "id": "240f503849765961",
   "outputs": [],
   "execution_count": 109
  },
  {
   "metadata": {
    "ExecuteTime": {
     "end_time": "2024-07-29T12:58:07.247299Z",
     "start_time": "2024-07-29T12:58:07.239938Z"
    }
   },
   "cell_type": "code",
   "source": [
    "def test_answer(pred_str, ans_str):\n",
    "    pattern = '\\d*\\.?\\d+'\n",
    "    pred = re.findall(pattern, pred_str)\n",
    "    if(len(pred) >= 1):\n",
    "        # print(pred_str)\n",
    "        pred = pred[-1]\n",
    "        gold = re.findall(pattern, ans_str)\n",
    "        # print(ans_str)\n",
    "        gold = gold[-1]\n",
    "        return pred == gold\n",
    "    else: return False\n",
    "\n",
    "def parse_pred_ans(filename):\n",
    "    with open(filename) as fd: lines = fd.readlines()\n",
    "    am, a = None, None\n",
    "    num_q, acc = 0, 0\n",
    "    current_mode = 'none'\n",
    "    questions = []\n",
    "    ans_pred = []\n",
    "    ans_gold = []\n",
    "    for l in lines:\n",
    "        if(l.startswith('Q: ')):\n",
    "            if(am is not None and a is not None):\n",
    "                questions.append(q)\n",
    "                ans_pred.append(am)\n",
    "                ans_gold.append(a)\n",
    "                if(test_answer(am, a)):\n",
    "                    acc += 1\n",
    "            current_mode = 'q'\n",
    "            q = l\n",
    "            num_q += 1\n",
    "        elif(l.startswith('A_model:')):\n",
    "            current_mode = 'am'\n",
    "            am = l\n",
    "        elif(l.startswith('A:')):\n",
    "            current_mode = 'a'\n",
    "            a = l\n",
    "        else:\n",
    "            if(current_mode == 'q'): q += l\n",
    "            elif(current_mode == 'am'): am += l\n",
    "            elif(current_mode == 'a'): a += l\n",
    "            else:\n",
    "                raise ValueError(current_mode)\n",
    "                \n",
    "    questions.append(q)\n",
    "    ans_pred.append(am)\n",
    "    ans_gold.append(a)\n",
    "    if(test_answer(am, a)):\n",
    "        acc += 1\n",
    "    print('num_q %d correct %d ratio %.4f' % (num_q, acc, float(acc / num_q)))\n",
    "    return questions, ans_pred, ans_gold\n",
    "\n",
    "def test_finished(ans_model):\n",
    "    if('answer is' in ans_model): return True\n",
    "    else: return False\n",
    "\n",
    "def extract_ans(ans_model):\n",
    "    ans_model = ans_model.split('\\n')\n",
    "    ans = []\n",
    "    residual = []\n",
    "    for li, al in enumerate(ans_model):\n",
    "        ans.append(al)\n",
    "        if('answer is' in al):\n",
    "            break\n",
    "    residual = list(ans_model[li + 1:])\n",
    "    ans = '\\n'.join(ans)\n",
    "    residual = '\\n'.join(residual)\n",
    "    return ans, residual"
   ],
   "id": "393a5b91e8450ca6",
   "outputs": [],
   "execution_count": 64
  },
  {
   "metadata": {
    "ExecuteTime": {
     "end_time": "2024-07-29T12:58:07.252263Z",
     "start_time": "2024-07-29T12:58:07.250092Z"
    }
   },
   "cell_type": "code",
   "source": "prompt_q = prompt_complex + '\\nQuestion: ' + gsm8k_test[1]['question'] + '\\n'",
   "id": "cac9dbac3baa7e75",
   "outputs": [],
   "execution_count": 65
  },
  {
   "metadata": {
    "ExecuteTime": {
     "end_time": "2024-07-29T12:58:07.255547Z",
     "start_time": "2024-07-29T12:58:07.253122Z"
    }
   },
   "cell_type": "code",
   "source": "print(prompt_q)",
   "id": "a924cd95a7bd3a05",
   "outputs": [
    {
     "name": "stdout",
     "output_type": "stream",
     "text": [
      "Question: Angelo and Melanie want to plan how many hours over the next week they should study together for their test next week. They have 2 chapters of their textbook to study and 4 worksheets to memorize. They figure out that they should dedicate 3 hours to each chapter of their textbook and 1.5 hours for each worksheet. If they plan to study no more than 4 hours each day, how many days should they plan to study total over the next week if they take a 10-minute break every hour, include 3 10-minute snack breaks each day, and 30 minutes for lunch each day?\n",
      "Let's think step by step\n",
      "Angelo and Melanie think they should dedicate 3 hours to each of the 2 chapters, 3 hours x 2 chapters = 6 hours total.\n",
      "For the worksheets they plan to dedicate 1.5 hours for each worksheet, 1.5 hours x 4 worksheets = 6 hours total.\n",
      "Angelo and Melanie need to start with planning 12 hours to study, at 4 hours a day, 12 / 4 = 3 days.\n",
      "However, they need to include time for breaks and lunch. Every hour they want to include a 10-minute break, so 12 total hours x 10 minutes = 120 extra minutes for breaks.\n",
      "They also want to include 3 10-minute snack breaks, 3 x 10 minutes = 30 minutes.\n",
      "And they want to include 30 minutes for lunch each day, so 120 minutes for breaks + 30 minutes for snack breaks + 30 minutes for lunch = 180 minutes, or 180 / 60 minutes per hour = 3 extra hours.\n",
      "So Angelo and Melanie want to plan 12 hours to study + 3 hours of breaks = 15 hours total.\n",
      "They want to study no more than 4 hours each day, 15 hours / 4 hours each day = 3.75\n",
      "They will need to plan to study 4 days to allow for all the time they need.\n",
      "The answer is 4\n",
      "\n",
      "Question: Mark's basketball team scores 25 2 pointers, 8 3 pointers and 10 free throws.  Their opponents score double the 2 pointers but half the 3 pointers and free throws.  What's the total number of points scored by both teams added together?\n",
      "Let's think step by step\n",
      "Mark's team scores 25 2 pointers, meaning they scored 25*2= 50 points in 2 pointers.\n",
      "His team also scores 6 3 pointers, meaning they scored 8*3= 24 points in 3 pointers\n",
      "They scored 10 free throws, and free throws count as one point so they scored 10*1=10 points in free throws.\n",
      "All together his team scored 50+24+10= 84 points\n",
      "Mark's opponents scored double his team's number of 2 pointers, meaning they scored 50*2=100 points in 2 pointers.\n",
      "His opponents scored half his team's number of 3 pointers, meaning they scored 24/2= 12 points in 3 pointers.\n",
      "They also scored half Mark's team's points in free throws, meaning they scored 10/2=5 points in free throws.\n",
      "All together Mark's opponents scored 100+12+5=117 points\n",
      "The total score for the game is both team's scores added together, so it is 84+117=201 points\n",
      "The answer is 201\n",
      "\n",
      "Question: Bella has two times as many marbles as frisbees. She also has 20 more frisbees than deck cards. If she buys 2/5 times more of each item, what would be the total number of the items she will have if she currently has 60 marbles?\n",
      "Let's think step by step\n",
      "When Bella buys 2/5 times more marbles, she'll have increased the number of marbles by 2/5*60 = 24\n",
      "The total number of marbles she'll have is 60+24 = 84\n",
      "If Bella currently has 60 marbles, and she has two times as many marbles as frisbees, she has 60/2 = 30 frisbees.\n",
      "If Bella buys 2/5 times more frisbees, she'll have 2/5*30 = 12 more frisbees.\n",
      "The total number of frisbees she'll have will increase to 30+12 = 42\n",
      "Bella also has 20 more frisbees than deck cards, meaning she has 30-20 = 10 deck cards\n",
      "If she buys 2/5 times more deck cards, she'll have 2/5*10 = 4 more deck cards.\n",
      "The total number of deck cards she'll have is 10+4 = 14\n",
      "Together, Bella will have a total of 14+42+84 = 140 items\n",
      "The answer is 140\n",
      "\n",
      "Question: A group of 4 fruit baskets contains 9 apples, 15 oranges, and 14 bananas in the first three baskets and 2 less of each fruit in the fourth basket. How many fruits are there?\n",
      "Let's think step by step\n",
      "For the first three baskets, the number of apples and oranges in one basket is 9+15=24\n",
      "In total, together with bananas, the number of fruits in one basket is 24+14=38 for the first three baskets.\n",
      "Since there are three baskets each having 38 fruits, there are 3*38=114 fruits in the first three baskets.\n",
      "The number of apples in the fourth basket is 9-2=7\n",
      "There are also 15-2=13 oranges in the fourth basket\n",
      "The combined number of oranges and apples in the fourth basket is 13+7=20\n",
      "The fourth basket also contains 14-2=12 bananas.\n",
      "In total, the fourth basket has 20+12=32 fruits.\n",
      "The four baskets together have 32+114=146 fruits.\n",
      "The answer is 146\n",
      "\n",
      "Question: You can buy 4 apples or 1 watermelon for the same price. You bought 36 fruits evenly split between oranges, apples and watermelons, and the price of 1 orange is $0.50. How much does 1 apple cost if your total bill was $66?\n",
      "Let's think step by step\n",
      "If 36 fruits were evenly split between 3 types of fruits, then I bought 36/3 = 12 units of each fruit\n",
      "If 1 orange costs $0.50 then 12 oranges will cost $0.50 * 12 = $6\n",
      "If my total bill was $66 and I spent $6 on oranges then I spent $66 - $6 = $60 on the other 2 fruit types.\n",
      "Assuming the price of watermelon is W, and knowing that you can buy 4 apples for the same price and that the price of one apple is A, then 1W=4A\n",
      "If we know we bought 12 watermelons and 12 apples for $60, then we know that $60 = 12W + 12A\n",
      "Knowing that 1W=4A, then we can convert the above to $60 = 12(4A) + 12A\n",
      "$60 = 48A + 12A\n",
      "$60 = 60A\n",
      "Then we know the price of one apple (A) is $60/60= $1\n",
      "The answer is 1\n",
      "\n",
      "Question: Susy goes to a large school with 800 students, while Sarah goes to a smaller school with only 300 students.  At the start of the school year, Susy had 100 social media followers.  She gained 40 new followers in the first week of the school year, half that in the second week, and half of that in the third week.  Sarah only had 50 social media followers at the start of the year, but she gained 90 new followers the first week, a third of that in the second week, and a third of that in the third week.  After three weeks, how many social media followers did the girl with the most total followers have?\n",
      "Let's think step by step\n",
      "After one week, Susy has 100+40 = 140 followers.\n",
      "In the second week, Susy gains 40/2 = 20 new followers.\n",
      "In the third week, Susy gains 20/2 = 10 new followers.\n",
      "In total, Susy finishes the three weeks with 140+20+10 = 170 total followers.\n",
      "After one week, Sarah has 50+90 = 140 followers.\n",
      "After the second week, Sarah gains 90/3 = 30 followers.\n",
      "After the third week, Sarah gains 30/3 = 10 followers.\n",
      "So, Sarah finishes the three weeks with 140+30+10 = 180 total followers.\n",
      "Thus, Sarah is the girl with the most total followers with a total of 180.\n",
      "The answer is 180\n",
      "\n",
      "Question: Sam bought a dozen boxes, each with 30 highlighter pens inside, for $10 each box. He rearranged five of these boxes into packages of six highlighters each and sold them for $3 per package. He sold the rest of the highlighters separately at the rate of three pens for $2. How much profit did he make in total, in dollars?\n",
      "Let's think step by step\n",
      "Sam bought 12 boxes x $10 = $120 worth of highlighters.\n",
      "He bought 12 * 30 = 360 highlighters in total.\n",
      "Sam then took 5 boxes × 6 highlighters/box = 30 highlighters.\n",
      "He sold these boxes for 5 * $3 = $15\n",
      "After selling these 5 boxes there were 360 - 30 = 330 highlighters remaining.\n",
      "These form 330 / 3 = 110 groups of three pens.\n",
      "He sold each of these groups for $2 each, so made 110 * 2 = $220 from them.\n",
      "In total, then, he earned $220 + $15 = $235.\n",
      "Since his original cost was $120, he earned $235 - $120 = $115 in profit.\n",
      "The answer is 115\n",
      "\n",
      "Question: In a certain school, 2/3 of the male students like to play basketball, but only 1/5 of the female students like to play basketball. What percent of the population of the school do not like to play basketball if the ratio of the male to female students is 3:2 and there are 1000 students?\n",
      "Let's think step by step\n",
      "The students are divided into 3 + 2 = 5 parts where 3 parts are for males and 2 parts are for females.\n",
      "Each part represents 1000/5 = 200 students.\n",
      "So, there are 3 x 200 = 600 males.\n",
      "And there are 2 x 200 = 400 females.\n",
      "Hence, 600 x 2/3 = 400 males play basketball.\n",
      "And 400 x 1/5 = 80 females play basketball.\n",
      "A total of 400 + 80 = 480 students play basketball.\n",
      "Therefore, 1000 - 480 = 520 do not like to play basketball.\n",
      "The percentage of the school that do not like to play basketball is 520/1000 * 100 = 52\n",
      "The answer is 52\n",
      "\n",
      "Question: A robe takes 2 bolts of blue fiber and half that much white fiber.  How many bolts in total does it take?\n",
      "\n"
     ]
    }
   ],
   "execution_count": 66
  },
  {
   "metadata": {
    "ExecuteTime": {
     "end_time": "2024-07-29T13:07:36.656896Z",
     "start_time": "2024-07-29T13:07:35.475397Z"
    }
   },
   "cell_type": "code",
   "source": [
    "response = client.chat.completions.create(\n",
    "    messages=[\n",
    "        {\n",
    "            \"role\": \"system\",\n",
    "            \"content\": \"Follow the given examples and answer the question.\"\n",
    "        },\n",
    "        {\n",
    "            \"role\": \"user\", \n",
    "            \"content\": prompt_q\n",
    "        }\n",
    "    ],\n",
    "    model=\"gpt-3.5-turbo\",\n",
    ")"
   ],
   "id": "d99e208b5b05eac9",
   "outputs": [],
   "execution_count": 73
  },
  {
   "metadata": {
    "ExecuteTime": {
     "end_time": "2024-07-29T13:09:42.745093Z",
     "start_time": "2024-07-29T13:09:42.740062Z"
    }
   },
   "cell_type": "code",
   "source": "print(response.choices[0].message.content)",
   "id": "b7241dce18e78f49",
   "outputs": [
    {
     "name": "stdout",
     "output_type": "stream",
     "text": [
      "The robe takes 2 bolts of blue fiber and half that much white fiber, which means the robe takes 2 + (1/2) * 2 = 3 bolts in total. \n",
      "\n",
      "The answer is 3 bolts.\n"
     ]
    }
   ],
   "execution_count": 86
  },
  {
   "metadata": {},
   "cell_type": "markdown",
   "source": "LLMlingua2를 이용한 prompt compress ",
   "id": "aee9b9f5931f91b3"
  },
  {
   "metadata": {
    "ExecuteTime": {
     "end_time": "2024-07-29T13:38:16.906378Z",
     "start_time": "2024-07-29T13:38:13.818867Z"
    }
   },
   "cell_type": "code",
   "source": [
    "from llmlingua import PromptCompressor\n",
    "\n",
    "llm_lingua = PromptCompressor(\n",
    "    model_name=\"microsoft/llmlingua-2-bert-base-multilingual-cased-meetingbank\",\n",
    "    use_llmlingua2=True, # Whether to use llmlingua-2\n",
    "    device_map='cpu'\n",
    ")\n",
    "compressed_prompt = llm_lingua.compress_prompt(prompt_complex, rate=0.1)['compressed_prompt']"
   ],
   "id": "e3f847b782f9b3e1",
   "outputs": [
    {
     "name": "stderr",
     "output_type": "stream",
     "text": [
      "Token indices sequence length is longer than the specified maximum sequence length for this model (2209 > 512). Running this sequence through the model will result in indexing errors\n"
     ]
    }
   ],
   "execution_count": 102
  },
  {
   "metadata": {
    "ExecuteTime": {
     "end_time": "2024-07-29T13:38:17.484900Z",
     "start_time": "2024-07-29T13:38:17.482115Z"
    }
   },
   "cell_type": "code",
   "source": "print(compressed_prompt)",
   "id": "bd8d7023e86d8916",
   "outputs": [
    {
     "name": "stdout",
     "output_type": "stream",
     "text": [
      "Angelo Melanie 2 chapters 4 worksheets 3 hours 1. 5 hours 4 hours 30 minutes lunch 3 hours 1. 5 hours 12 30 12 4 days Mark team 25 pointers 10 free throws points 25 pointersteam scores 6 pointers 8 10 scored 50 84 points double half scored 100 117 points 84 + 117 = 201 Bella two times marbles 20 frisbees 2 / 5 * 60 24 20deck cards 10 14 14 42 140 9 apples 15 oranges 14 bananas 9 + 24 3 114 9 - 2 7 15 13 + 20 14 - 12 20 32 4 36 $ 0 50watermelon W 4 1W = 4A 12 watermelons $ 60 $ 60 = 12W convert $ 60 one apple $ 1 Susy 800 300 100 40 third 90 100 140 40 10 30 180 180 $ 3 $profit bought 12 120 360 5 sold 15 330 2 220 earned 220 235 115 2 / 3 1 5 3 : 2 3 5 1000 200 3 = 600 males 400 480\n"
     ]
    }
   ],
   "execution_count": 103
  },
  {
   "metadata": {},
   "cell_type": "markdown",
   "source": "2366 토큰이던 프롬프트를 298 토큰으로 압축",
   "id": "9cdae4f72d411aa1"
  },
  {
   "metadata": {
    "ExecuteTime": {
     "end_time": "2024-07-29T13:38:26.613015Z",
     "start_time": "2024-07-29T13:38:24.808641Z"
    }
   },
   "cell_type": "code",
   "source": [
    "prompt_q_with_compressed_prompt = compressed_prompt + '\\nQuestion: ' + gsm8k_test[1]['question'] + '\\n'\n",
    "response_with_compressed_prompt = client.chat.completions.create(\n",
    "    messages=[\n",
    "        {\n",
    "            \"role\": \"system\",\n",
    "            \"content\": \"Follow the given examples and answer the question.\"\n",
    "        },\n",
    "        {\n",
    "            \"role\": \"user\", \n",
    "            \"content\": prompt_q_with_compressed_prompt\n",
    "        }\n",
    "    ],\n",
    "    model=\"gpt-3.5-turbo\",\n",
    ")"
   ],
   "id": "17e60713568d0e6f",
   "outputs": [],
   "execution_count": 104
  },
  {
   "metadata": {
    "ExecuteTime": {
     "end_time": "2024-07-29T13:38:34.916206Z",
     "start_time": "2024-07-29T13:38:34.912074Z"
    }
   },
   "cell_type": "code",
   "source": "print(response_with_compressed_prompt.choices[0].message.content)",
   "id": "1a75a61b8560088c",
   "outputs": [
    {
     "name": "stdout",
     "output_type": "stream",
     "text": [
      "To find the total number of bolts required for the robe, we first calculate the amount of white fiber needed.\n",
      "\n",
      "Given that the robe requires 2 bolts of blue fiber and half that much white fiber, it requires 2/2 = 1 bolt of white fiber.\n",
      "Therefore, the total number of bolts needed for the robe is 2 (blue fiber) + 1 (white fiber) = 3 bolts. \n",
      "\n",
      "So, it takes a total of 3 bolts to make the robe.\n"
     ]
    }
   ],
   "execution_count": 105
  },
  {
   "metadata": {},
   "cell_type": "markdown",
   "source": "평가 수행 - 원본 프롬프트",
   "id": "ea778f01e8f90993"
  },
  {
   "metadata": {
    "ExecuteTime": {
     "end_time": "2024-07-29T13:48:56.410043Z",
     "start_time": "2024-07-29T13:48:56.406604Z"
    }
   },
   "cell_type": "code",
   "source": "test_count = 50",
   "id": "4d09a35e31cb5d20",
   "outputs": [],
   "execution_count": 115
  },
  {
   "metadata": {
    "ExecuteTime": {
     "end_time": "2024-07-29T13:50:58.487370Z",
     "start_time": "2024-07-29T13:48:56.893799Z"
    }
   },
   "cell_type": "code",
   "source": [
    "i = 0\n",
    "with open('./outputs/test_gpt_3.5_turbo_complex.txt', 'w') as fd:\n",
    "    for q, a in tqdm(zip(gsm8k_test['question'], gsm8k_test['answer']), \n",
    "                               total=len(gsm8k_test['question'])):\n",
    "        \n",
    "        prompt_q = prompt_complex + '\\nQuestion: ' + q + '\\n'  \n",
    "        \n",
    "        response = completion_with_backoff(\n",
    "              model=\"gpt-3.5-turbo\",\n",
    "              messages=[\n",
    "                    {\"role\": \"system\", \"content\": \"Follow the given examples and answer the question.\"},\n",
    "                    {\"role\": \"user\", \"content\": prompt_q},\n",
    "                ]\n",
    "            )\n",
    "        ans_model = response.choices[0].message.content\n",
    "        ans_, residual = extract_ans(ans_model)\n",
    "            \n",
    "        fd.write('Q: %s\\nA_model:\\n%s\\nA:\\n%s\\n\\n' % (q, ans_, a))\n",
    "        i += 1\n",
    "        if(i == test_count): break"
   ],
   "id": "a505900c0f082588",
   "outputs": [
    {
     "name": "stderr",
     "output_type": "stream",
     "text": [
      "  4%|▎         | 49/1319 [02:01<52:31,  2.48s/it]  \n"
     ]
    }
   ],
   "execution_count": 116
  },
  {
   "metadata": {
    "ExecuteTime": {
     "end_time": "2024-07-29T13:51:29.772071Z",
     "start_time": "2024-07-29T13:51:29.763372Z"
    }
   },
   "cell_type": "code",
   "source": "_, _, _ = parse_pred_ans('outputs/test_gpt_3.5_turbo_complex.txt')",
   "id": "4db4d7e11efbcff",
   "outputs": [
    {
     "name": "stdout",
     "output_type": "stream",
     "text": [
      "num_q 50 correct 30 ratio 0.6000\n"
     ]
    }
   ],
   "execution_count": 117
  },
  {
   "metadata": {},
   "cell_type": "markdown",
   "source": "평가 수행 - 압축 프롬프트",
   "id": "70d6f82032bfb94c"
  },
  {
   "metadata": {
    "ExecuteTime": {
     "end_time": "2024-07-29T13:54:34.938925Z",
     "start_time": "2024-07-29T13:51:34.753098Z"
    }
   },
   "cell_type": "code",
   "source": [
    "i = 0\n",
    "with open('./outputs/test_gpt_3.5_turbo_complex_compressed.txt', 'w') as fd:\n",
    "    for q, a in tqdm(zip(gsm8k_test['question'], gsm8k_test['answer']), \n",
    "                               total=len(gsm8k_test['question'])):\n",
    "        \n",
    "        prompt_q = prompt_q_with_compressed_prompt + '\\nQuestion: ' + q + '\\n'  \n",
    "        \n",
    "        response = completion_with_backoff(\n",
    "              model=\"gpt-3.5-turbo\",\n",
    "              messages=[\n",
    "                    {\"role\": \"system\", \"content\": \"Follow the given examples and answer the question.\"},\n",
    "                    {\"role\": \"user\", \"content\": prompt_q},\n",
    "                ]\n",
    "            )\n",
    "        ans_model = response.choices[0].message.content\n",
    "        ans_, residual = extract_ans(ans_model)\n",
    "            \n",
    "        fd.write('Q: %s\\nA_model:\\n%s\\nA:\\n%s\\n\\n' % (q, ans_, a))\n",
    "        i += 1\n",
    "        if(i == test_count): break"
   ],
   "id": "5a18d4681f024a5b",
   "outputs": [
    {
     "name": "stderr",
     "output_type": "stream",
     "text": [
      "  4%|▎         | 49/1319 [03:00<1:17:49,  3.68s/it]\n"
     ]
    }
   ],
   "execution_count": 118
  },
  {
   "metadata": {
    "ExecuteTime": {
     "end_time": "2024-07-29T13:54:39.483484Z",
     "start_time": "2024-07-29T13:54:39.475069Z"
    }
   },
   "cell_type": "code",
   "source": "_, _, _ = parse_pred_ans('outputs/test_gpt_3.5_turbo_complex_compressed.txt')",
   "id": "bb6eccb46c7d120d",
   "outputs": [
    {
     "name": "stdout",
     "output_type": "stream",
     "text": [
      "num_q 50 correct 22 ratio 0.4400\n"
     ]
    }
   ],
   "execution_count": 119
  },
  {
   "metadata": {},
   "cell_type": "markdown",
   "source": "압축된 프롬프트로 수행 시 정확도가 떨어지는 것을 확인할 수 있었습니다.",
   "id": "5de7ca14e7696674"
  }
 ],
 "metadata": {
  "kernelspec": {
   "display_name": "Python 3",
   "language": "python",
   "name": "python3"
  },
  "language_info": {
   "codemirror_mode": {
    "name": "ipython",
    "version": 2
   },
   "file_extension": ".py",
   "mimetype": "text/x-python",
   "name": "python",
   "nbconvert_exporter": "python",
   "pygments_lexer": "ipython2",
   "version": "2.7.6"
  }
 },
 "nbformat": 4,
 "nbformat_minor": 5
}
